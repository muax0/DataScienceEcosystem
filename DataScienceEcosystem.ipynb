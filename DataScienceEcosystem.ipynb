{
 "cells": [
  {
   "cell_type": "markdown",
   "id": "80eba56a-c675-4e81-ae23-56114d5c82b0",
   "metadata": {},
   "source": [
    "# Data Science Tools and Ecosystem"
   ]
  },
  {
   "cell_type": "markdown",
   "id": "aa6f06fc-e261-4c3f-baca-21d1721639a7",
   "metadata": {},
   "source": [
    "In this notebook, Data Science Tools and Ecosystem are summarized."
   ]
  },
  {
   "cell_type": "markdown",
   "id": "9baa87db-b7fe-43a2-81a4-7a2bce29ae3d",
   "metadata": {},
   "source": [
    "Some of the popular languages that Data Scientists use are:\n",
    "\n",
    "1. Python\n",
    "2. R\n",
    "3. Julia\n"
   ]
  },
  {
   "cell_type": "markdown",
   "id": "2799f58b-3e06-4b6c-a557-9cb9c8f48e86",
   "metadata": {},
   "source": [
    "Some of the commonly used libraries used by Data Scientists include:\n",
    "\n",
    "1. Pandas\n",
    "2. NumPy\n",
    "3. Matplotlib\n"
   ]
  },
  {
   "cell_type": "markdown",
   "id": "6a4eec88-507e-4bdb-8db6-75b2924ad35d",
   "metadata": {},
   "source": [
    "| Data Science Tools |\n",
    "| ------------------ |\n",
    "| Jupyter Notebook   |\n",
    "| RStudio            |\n",
    "| Visual Studio Code |\n"
   ]
  },
  {
   "cell_type": "markdown",
   "id": "ad045d64-64d2-4f4a-b495-1b21c59e4ccf",
   "metadata": {},
   "source": [
    "### Examples of Evaluating Arithmetic Expressions in Python\n",
    "\n",
    "In this section, we'll explore some examples of evaluating arithmetic expressions in Python."
   ]
  },
  {
   "cell_type": "code",
   "execution_count": 2,
   "id": "6599163d-c01c-47c3-9238-1f587a187a8d",
   "metadata": {
    "tags": []
   },
   "outputs": [
    {
     "data": {
      "text/plain": [
       "17"
      ]
     },
     "execution_count": 2,
     "metadata": {},
     "output_type": "execute_result"
    }
   ],
   "source": [
    "# This is a simple arithmetic expression to multiply then add integers.\n",
    "result = (3 * 4) + 5\n",
    "result"
   ]
  },
  {
   "cell_type": "code",
   "execution_count": 4,
   "id": "0a530214-80fd-425b-89bb-29d8dfc48303",
   "metadata": {
    "tags": []
   },
   "outputs": [
    {
     "data": {
      "text/plain": [
       "3.3333333333333335"
      ]
     },
     "execution_count": 4,
     "metadata": {},
     "output_type": "execute_result"
    }
   ],
   "source": [
    "# This will convert 200 minutes to hours by dividing by 60.\n",
    "minutes = 200\n",
    "hours = minutes / 60\n",
    "hours"
   ]
  },
  {
   "cell_type": "markdown",
   "id": "dbd82488-f1c4-4d7d-b09f-0b4553982912",
   "metadata": {},
   "source": [
    "**Objectives:**\n",
    "\n",
    "- List popular languages for Data Science.\n",
    "- Identify commonly used data science libraries.\n",
    "- Understand the data science ecosystem.\n",
    "- Perform basic arithmetic operations in Python.\n",
    "- Convert units of time.\n"
   ]
  },
  {
   "cell_type": "markdown",
   "id": "3fb3dcad-786e-4554-9d51-85ee61aba6e3",
   "metadata": {
    "tags": []
   },
   "source": [
    "## Author\n",
    "\n",
    "Muath M.J Awad\n"
   ]
  }
 ],
 "metadata": {
  "kernelspec": {
   "display_name": "Python",
   "language": "python",
   "name": "conda-env-python-py"
  },
  "language_info": {
   "codemirror_mode": {
    "name": "ipython",
    "version": 3
   },
   "file_extension": ".py",
   "mimetype": "text/x-python",
   "name": "python",
   "nbconvert_exporter": "python",
   "pygments_lexer": "ipython3",
   "version": "3.7.12"
  }
 },
 "nbformat": 4,
 "nbformat_minor": 5
}
